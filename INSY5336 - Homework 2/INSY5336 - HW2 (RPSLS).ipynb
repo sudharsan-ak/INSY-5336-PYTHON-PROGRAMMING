{
 "cells": [
  {
   "cell_type": "code",
   "execution_count": 6,
   "metadata": {},
   "outputs": [
    {
     "name": "stdout",
     "output_type": "stream",
     "text": [
      "Enter your choice: lizard\n",
      "Player chooses lizard\n",
      "Computer chooses lizard\n",
      "Player and Computer tie! \n"
     ]
    }
   ],
   "source": [
    "import random\n",
    "\n",
    "#function to convert the Player's choice of a name to a number to calculate the difference\n",
    "def name_to_number(name):\n",
    "    if name == \"rock\"  :\n",
    "        return 0\n",
    "    elif name == \"Spock\" :\n",
    "        return 1\n",
    "    elif name == \"paper\" :\n",
    "        return 2\n",
    "    elif name == \"lizard\" :\n",
    "        return 3\n",
    "    elif name == \"scissors\" :\n",
    "        return 4\n",
    "    else:\n",
    "        return 5\n",
    "\n",
    "#function to convert the Computer's choice of a name to a number to calculate the difference\n",
    "def number_to_name(number):\n",
    "    if number == 0  :\n",
    "        return \"rock\"\n",
    "    elif number == 1 :\n",
    "        return \"Spock\"\n",
    "    elif number == 2 :\n",
    "        return \"paper\"\n",
    "    elif number == 3 :\n",
    "        return \"lizard\"\n",
    "    elif number == 4 :\n",
    "        return \"scissors\"\n",
    "    else:\n",
    "        return \"Not Found \"\n",
    "    \n",
    "#Rock-Paper-Scissors-Lizard-Spock function to generate random value of Computer and calculate the difference with Player's choice\n",
    "def rpsls(player): \n",
    "    print (\"Player chooses\" ,player)\n",
    "    Player_choice = name_to_number(player) # convert the player's choice to player_number using name_to_number()\n",
    "    Computer_choice = random.randrange(0,5) #computing a random number for Computer's choice\n",
    "    c_choice = number_to_name(Computer_choice)\n",
    "    print (\"Computer chooses\" , c_choice)\n",
    "    if (Player_choice == 5):\n",
    "        print(\"Bad Input\")\n",
    "        exit()\n",
    "    else: \n",
    "        difference = (Player_choice - Computer_choice ) % 5\n",
    "        comp(difference)\n",
    "\n",
    "#Function to Compute difference of Computer's choice and Player's choice modulo five\n",
    "def comp(difference):\n",
    "        if difference == 0 :\n",
    "            print (\"Player and Computer tie! \")\n",
    "        elif difference == 1 or difference == 2:\n",
    "            print (\"Player wins!\")\n",
    "        elif difference == 3 or difference == 4:\n",
    "            print (\"Computer wins!\")\n",
    "        else:\n",
    "            print (\"Bad input \" )\n",
    "            \n",
    "c=input(\"Enter your choice: \")\n",
    "rpsls(c)"
   ]
  },
  {
   "cell_type": "code",
   "execution_count": null,
   "metadata": {},
   "outputs": [],
   "source": []
  }
 ],
 "metadata": {
  "kernelspec": {
   "display_name": "Python 3",
   "language": "python",
   "name": "python3"
  },
  "language_info": {
   "codemirror_mode": {
    "name": "ipython",
    "version": 3
   },
   "file_extension": ".py",
   "mimetype": "text/x-python",
   "name": "python",
   "nbconvert_exporter": "python",
   "pygments_lexer": "ipython3",
   "version": "3.7.6"
  }
 },
 "nbformat": 4,
 "nbformat_minor": 4
}
