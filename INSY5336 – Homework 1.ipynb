{
 "cells": [
  {
   "cell_type": "code",
   "execution_count": 1,
   "metadata": {},
   "outputs": [
    {
     "name": "stdout",
     "output_type": "stream",
     "text": [
      "Enter the principal amount : 2000\n",
      "Enter the rate of interest : 10\n",
      "Enter the years : 2\n",
      "400.0\n"
     ]
    }
   ],
   "source": [
    "#Program to calculate simple interest\n",
    "p = float(input(\"Enter the principal amount : \"))\n",
    "r = float(input(\"Enter the rate of interest : \"))\n",
    "n = int(input(\"Enter the years : \"))\n",
    "\n",
    "def calculateInterest(p,r,n):\n",
    "    interest_amount= (p * n * r)/100\n",
    "    return (interest_amount)\n",
    "\n",
    "result = calculateInterest(p,r,n)\n",
    "print(result)"
   ]
  },
  {
   "cell_type": "code",
   "execution_count": 2,
   "metadata": {},
   "outputs": [
    {
     "name": "stdout",
     "output_type": "stream",
     "text": [
      "Enter n : 4\n",
      "0\n",
      "4\n",
      "8\n",
      "12\n"
     ]
    }
   ],
   "source": [
    "#Program to print first four multiples of n\n",
    "x=int(input(\"Enter n : \"))\n",
    "\n",
    "for i in range(0,4):\n",
    "\n",
    "   print(i*x)"
   ]
  },
  {
   "cell_type": "code",
   "execution_count": 16,
   "metadata": {},
   "outputs": [
    {
     "name": "stdout",
     "output_type": "stream",
     "text": [
      "2100\n",
      "False\n",
      "True\n",
      "False\n",
      "True\n"
     ]
    }
   ],
   "source": [
    "#Program for leap year check\n",
    "def leap(year): \n",
    "    if (year % 4) == 0:  \n",
    "       if (year % 100) == 0:  \n",
    "           if (year % 400) == 0:  \n",
    "               print(\"True\")  \n",
    "           else:  \n",
    "               print(\"False\")  \n",
    "       else:  \n",
    "           print(\"True\")  \n",
    "    else:  \n",
    "       print(\"False\")    \n",
    "\n",
    "year=int(input())    \n",
    "leap(year)"
   ]
  },
  {
   "cell_type": "code",
   "execution_count": 11,
   "metadata": {},
   "outputs": [
    {
     "name": "stdout",
     "output_type": "stream",
     "text": [
      "[120.29, -70.67]\n"
     ]
    }
   ],
   "source": [
    "#Program to find sum of deposits and withdrawals in a list\n",
    "\n",
    "def statement(list):\n",
    "    deposits = 0.0\n",
    "    withdrawals = 0.0\n",
    "    for i in list:\n",
    "        if i<0:\n",
    "            withdrawals +=i\n",
    "        else:\n",
    "            deposits += i\n",
    "    return [ deposits, withdrawals ]\n",
    "\n",
    "print (statement([30.95, -15.67, 45.56, -55.00, 43.78]))"
   ]
  },
  {
   "cell_type": "code",
   "execution_count": 2,
   "metadata": {},
   "outputs": [
    {
     "name": "stdout",
     "output_type": "stream",
     "text": [
      "Enter x1: 1\n",
      "Enter y1: 3\n",
      "Enter x2: 10\n",
      "Enter y2: 6\n",
      "Enter x: 4\n",
      "Enter y: 2\n",
      "False\n"
     ]
    }
   ],
   "source": [
    "#Program to find points in a rectangle\n",
    "x1 = int(input(\"Enter x1: \"))\n",
    "y1 = int(input(\"Enter y1: \"))\n",
    "x2 = int(input(\"Enter x2: \"))\n",
    "y2 = int(input(\"Enter y2: \"))\n",
    "x = int(input(\"Enter x: \"))\n",
    "y = int(input(\"Enter y: \"))\n",
    "if (x > x1 and x < x2) and (y > y1 and y < y2):\n",
    "    print(\"True\")\n",
    "else:\n",
    "    print(\"False\")"
   ]
  },
  {
   "cell_type": "code",
   "execution_count": 3,
   "metadata": {},
   "outputs": [
    {
     "name": "stdout",
     "output_type": "stream",
     "text": [
      "Enter old password: ashwin\n",
      "Enter new password: akkkkkkkk\n",
      "True\n"
     ]
    }
   ],
   "source": [
    "#Program for password check\n",
    "def password_check(old_password,new_password):\n",
    "    if (old_password != new_password):\n",
    "        if(len(new_password) >= 6):\n",
    "            print(\"True\")\n",
    "        else:\n",
    "            print(\"False\")\n",
    "    else:\n",
    "        print(\"False\")\n",
    "        \n",
    "old= str(input(\"Enter old password: \"))\n",
    "new = str(input(\"Enter new password: \"))\n",
    "password_check(old,new)"
   ]
  },
  {
   "cell_type": "code",
   "execution_count": 8,
   "metadata": {},
   "outputs": [
    {
     "name": "stdout",
     "output_type": "stream",
     "text": [
      "Enter string 1 : hello\n",
      "Enter string 2 : namaste\n",
      "Enter string 3 : hellonamaste\n",
      "They are equal\n"
     ]
    }
   ],
   "source": [
    "#Program for string concatenate and check with another string\n",
    "s1 = str(input(\"Enter string 1 : \"))\n",
    "s2 = str(input(\"Enter string 2 : \"))\n",
    "s3 = str(input(\"Enter string 3 : \"))\n",
    "\n",
    "s4= s1+s2\n",
    "if (s4 == s3):\n",
    "    print(\"They are equal\")\n",
    "else:\n",
    "    print(\"They are not equal\")"
   ]
  },
  {
   "cell_type": "code",
   "execution_count": 12,
   "metadata": {},
   "outputs": [
    {
     "data": {
      "text/plain": [
       "11"
      ]
     },
     "execution_count": 12,
     "metadata": {},
     "output_type": "execute_result"
    }
   ],
   "source": [
    "#Program to find the years it takes for the investment to double\n",
    "\n",
    "def interest(interest_rate):\n",
    "    investment_amount = 100.00 \n",
    "    target_amount = 2 * investment_amount\n",
    "    years = 0\n",
    "    while investment_amount < target_amount:\n",
    "        investment_amount += (investment_amount * interest_rate)\n",
    "        years += 1\n",
    "    return years\n",
    "\n",
    "interest(0.07)"
   ]
  },
  {
   "cell_type": "code",
   "execution_count": 7,
   "metadata": {},
   "outputs": [
    {
     "data": {
      "text/plain": [
       "9.869462988376474"
      ]
     },
     "execution_count": 7,
     "metadata": {},
     "output_type": "execute_result"
    }
   ],
   "source": [
    "#Program to find approximation\n",
    "\n",
    "def approxPIsquared(error):\n",
    "    i = 3.0\n",
    "    result = 8.0\n",
    "    while(True):\n",
    "        result += 8.0/(i*i)\n",
    "        if(8.0/(i*i) >= error):\n",
    "            i+=2\n",
    "        else:\n",
    "            break\n",
    "    return result\n",
    "\n",
    "approxPIsquared(0.0001)\n",
    "approxPIsquared(0.00000001)"
   ]
  },
  {
   "cell_type": "code",
   "execution_count": 22,
   "metadata": {},
   "outputs": [
    {
     "name": "stdout",
     "output_type": "stream",
     "text": [
      "Enter x: 2.5\n",
      "Enter y: 4\n",
      "It is in!\n"
     ]
    }
   ],
   "source": [
    "#Program to check dart hits or not\n",
    "\n",
    "from math import sqrt\n",
    "def distance(x,y):\n",
    "   return sqrt( (x)**2 + (y)**2 )\n",
    "  \n",
    "x = float(input(\"Enter x: \"))\n",
    "y = float(input(\"Enter y: \"))\n",
    "\n",
    "if(distance(x,y)<8):\n",
    "   print (\"It is in!\")\n",
    "else:\n",
    "   print (\"It is not in!\")"
   ]
  },
  {
   "cell_type": "code",
   "execution_count": null,
   "metadata": {},
   "outputs": [],
   "source": []
  }
 ],
 "metadata": {
  "kernelspec": {
   "display_name": "Python 3",
   "language": "python",
   "name": "python3"
  },
  "language_info": {
   "codemirror_mode": {
    "name": "ipython",
    "version": 3
   },
   "file_extension": ".py",
   "mimetype": "text/x-python",
   "name": "python",
   "nbconvert_exporter": "python",
   "pygments_lexer": "ipython3",
   "version": "3.7.6"
  }
 },
 "nbformat": 4,
 "nbformat_minor": 4
}
