{
 "cells": [
  {
   "cell_type": "code",
   "execution_count": 7,
   "metadata": {},
   "outputs": [
    {
     "name": "stdout",
     "output_type": "stream",
     "text": [
      "Guess the jumbled word\n",
      "boigt\n",
      "Enter word or ? for meaning of the word:?\n",
      "The meaning of the word you are trying to guess is: narrow-minded, prejudiced person\n",
      "boigt\n",
      "Enter word or ? for meaning of the word:bigot\n",
      "You got it! Do you want to continue [yes or no]:yes\n",
      "roabh\n",
      "Enter word or ? for meaning of the word:?\n",
      "The meaning of the word you are trying to guess is: hate\n",
      "roabh\n",
      "Enter word or ? for meaning of the word:abhor\n",
      "You got it! Do you want to continue [yes or no]:no\n",
      "Goodbye\n"
     ]
    }
   ],
   "source": [
    "import random\n",
    "\n",
    "#function to open the file, create a dictionary to store the contents of the file\n",
    "\n",
    "def load_words(filename): \n",
    "    f=open(filename)\n",
    "    words_list={}\n",
    "    for line in f:\n",
    "        line=line.strip() #removing line break\n",
    "        values=line.split(':') #splitting the line by :\n",
    "        words_list[values[0]]=values[1] #adding the word and meaning to dict\n",
    "    return words_list\n",
    "\n",
    "#Function to jumble a random word from the dictionary\n",
    "\n",
    "def scramble_word(word):\n",
    "    char_list=list(word)  #convert word to list of characters\n",
    "    random.shuffle(char_list) #shuffle the characters\n",
    "    return ''.join(char_list)  #returns  a single string\n",
    "\n",
    "\n",
    "words=load_words('words.txt') \n",
    "\n",
    "print('Guess the jumbled word')\n",
    "\n",
    "choice='yes' \n",
    "\n",
    "#Loop until the user enters 'no'\n",
    "\n",
    "while choice.lower()=='yes':\n",
    "    word=random.choice(list(words.keys()))  #random word from dict\n",
    "    scrambled=scramble_word(word)               #jumble the word\n",
    "    user_input=' '\n",
    "\n",
    "    #Loop until the user guesses the word correctly\n",
    "    while user_input.lower()!=word.lower():\n",
    "        print(scrambled)\n",
    "        user_input=input('Enter word or ? for meaning of the word:')\n",
    "        if user_input=='?':\n",
    "            print('The meaning of the word you are trying to guess is:',words[word])\n",
    "        elif user_input != word.lower():\n",
    "            print('Try again')\n",
    "\n",
    "    choice=input('You got it! Do you want to continue [yes or no]:')\n",
    "    if (choice== 'no'):\n",
    "        print(\"Goodbye\")"
   ]
  },
  {
   "cell_type": "code",
   "execution_count": null,
   "metadata": {},
   "outputs": [],
   "source": []
  }
 ],
 "metadata": {
  "kernelspec": {
   "display_name": "Python 3",
   "language": "python",
   "name": "python3"
  },
  "language_info": {
   "codemirror_mode": {
    "name": "ipython",
    "version": 3
   },
   "file_extension": ".py",
   "mimetype": "text/x-python",
   "name": "python",
   "nbconvert_exporter": "python",
   "pygments_lexer": "ipython3",
   "version": "3.7.6"
  }
 },
 "nbformat": 4,
 "nbformat_minor": 4
}
